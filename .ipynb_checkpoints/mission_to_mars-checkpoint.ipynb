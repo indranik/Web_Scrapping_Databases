{
 "cells": [
  {
   "cell_type": "code",
   "execution_count": 280,
   "metadata": {
    "collapsed": true
   },
   "outputs": [],
   "source": [
    "# Dependencies\n",
    "import pandas as pd\n",
    "from bs4 import BeautifulSoup as bs\n",
    "from splinter import Browser\n",
    "import requests\n",
    "\n"
   ]
  },
  {
   "cell_type": "code",
   "execution_count": 281,
   "metadata": {
    "collapsed": true
   },
   "outputs": [],
   "source": [
    "executable_path = {'executable_path': 'chromedriver.exe'}\n",
    "browser = Browser('chrome', **executable_path, headless=False)\n"
   ]
  },
  {
   "cell_type": "code",
   "execution_count": 282,
   "metadata": {
    "collapsed": true
   },
   "outputs": [],
   "source": [
    "# NASA Mars News\n",
    "url = 'https://mars.nasa.gov/news/'\n",
    "browser.visit(url)"
   ]
  },
  {
   "cell_type": "code",
   "execution_count": 283,
   "metadata": {
    "collapsed": true
   },
   "outputs": [],
   "source": [
    "#html = requests.get(url)\n",
    "#soup = bs(html.text, 'html.parser')\n",
    "html = browser.html\n",
    "soup = bs(html, 'html.parser')"
   ]
  },
  {
   "cell_type": "code",
   "execution_count": 284,
   "metadata": {
    "collapsed": true
   },
   "outputs": [],
   "source": [
    "results = soup.find_all('li',class_=\"slide\")"
   ]
  },
  {
   "cell_type": "code",
   "execution_count": 285,
   "metadata": {},
   "outputs": [
    {
     "name": "stdout",
     "output_type": "stream",
     "text": [
      "NASA's First Deep-Space CubeSats Say: 'Polo!'\n",
      "MarCO is a pair of tiny spacecraft that launched with NASA's InSight lander today.\n"
     ]
    }
   ],
   "source": [
    "Latest_Title = results[0].find(class_=\"content_title\").text\n",
    "Latest_Title_Para = results[0].find(class_=\"article_teaser_body\").text\n",
    "print(Latest_Title)\n",
    "print(Latest_Title_Para)\n"
   ]
  },
  {
   "cell_type": "code",
   "execution_count": 286,
   "metadata": {},
   "outputs": [
    {
     "name": "stdout",
     "output_type": "stream",
     "text": [
      "[<a class=\"button fancybox\" data-description=\"The Cassini spacecraft takes an angled view toward Saturn, showing the southern reaches of the planet with the rings on a dramatic diagonal. The moon Enceladus appears as a small, bright speck in the lower left of the image.\" data-fancybox-group=\"images\" data-fancybox-href=\"/spaceimages/images/mediumsize/PIA14627_ip.jpg\" data-link=\"/spaceimages/details.php?id=PIA14627\" data-title=\"Angling Saturn\" id=\"full_image\">\n",
      "\t\t\t\t\tFULL IMAGE\n",
      "\t\t\t\t  </a>]\n",
      "https://www.jpl.nasa.gov/spaceimages/images/mediumsize/PIA14627_ip.jpg\n"
     ]
    }
   ],
   "source": [
    "# JPL Mars Space Images\n",
    "image_url = 'https://www.jpl.nasa.gov/spaceimages/?search=&category=Mars'\n",
    "browser.visit(image_url)\n",
    "image_html = browser.html\n",
    "image_soup = bs(image_html, 'html.parser')\n",
    "results = image_soup.find_all('a',class_=\"button fancybox\")\n",
    "print(results)\n",
    "#Image Location : Features Image\n",
    "image_loc = results[0].attrs['data-fancybox-href']\n",
    "image_loc = 'https://www.jpl.nasa.gov' + image_loc\n",
    "\n",
    "print(image_loc)\n",
    "#Latest_Title_Para = results[0].find(class_=\"article_teaser_body\").text"
   ]
  },
  {
   "cell_type": "code",
   "execution_count": 287,
   "metadata": {
    "scrolled": false
   },
   "outputs": [
    {
     "name": "stdout",
     "output_type": "stream",
     "text": [
      "Sol 2042 (May 05, 2018), Sunny, high -7C/19F, low -72C/-97F, pressure at 7.30 hPa, daylight 05:23-17:20\n"
     ]
    }
   ],
   "source": [
    "#Mars Weather\n",
    "Twitter_url = 'https://twitter.com/marswxreport?lang=en'\n",
    "browser.visit(Twitter_url)\n",
    "twitter_html = browser.html\n",
    "twitter_soup = bs(twitter_html, 'html.parser')\n",
    "#print(twitter_soup)\n",
    "results = twitter_soup.find_all('ol',{\"id\": \"stream-items-id\"})\n",
    "mars_weather = results[0].find_all('p',class_=\"TweetTextSize TweetTextSize--normal js-tweet-text tweet-text\")[0].text\n",
    "print(mars_weather)"
   ]
  },
  {
   "cell_type": "code",
   "execution_count": 288,
   "metadata": {},
   "outputs": [],
   "source": [
    "#Mars Facts\n",
    "MarsFacts_url = 'https://space-facts.com/mars/'\n",
    "tables = pd.read_html(MarsFacts_url)\n",
    "#print(type(tables))\n",
    "MarsFactdf = tables[0]\n",
    "\n",
    "#To change the column maps...first convert the column name data type to string\n",
    "MarsFactdf.columns = MarsFactdf.columns.map(str)\n",
    "MarsFactdf = MarsFactdf.rename( columns={\"0\": \"Decscription\", \"1\": \"Value\"})\n",
    "MarsFactdf.set_index('Decscription',inplace=True)\n",
    "MarsFacts_html_table = MarsFactdf.to_html()\n",
    "#MarsFactdf.to_html('MarsFacts_html_table')\n"
   ]
  },
  {
   "cell_type": "code",
   "execution_count": 339,
   "metadata": {},
   "outputs": [
    {
     "name": "stdout",
     "output_type": "stream",
     "text": [
      "[{'title': 'Cerberus Hemisphere', 'image_url': 'https://astropedia.astrogeology.usgs.gov/download/Mars/Viking/cerberus_enhanced.tif/full.jpg'}, {'title': 'Schiaparelli Hemisphere', 'image_url': 'https://astropedia.astrogeology.usgs.gov/download/Mars/Viking/schiaparelli_enhanced.tif/full.jpg'}, {'title': 'Syrtis Major Hemisphere', 'image_url': 'https://astropedia.astrogeology.usgs.gov/download/Mars/Viking/syrtis_major_enhanced.tif/full.jpg'}, {'title': 'Valles Marineris Hemisphere', 'image_url': 'https://astropedia.astrogeology.usgs.gov/download/Mars/Viking/valles_marineris_enhanced.tif/full.jpg'}]\n"
     ]
    }
   ],
   "source": [
    "#Mars Hemispheres\n",
    "MarsHemispheres_url = 'https://astrogeology.usgs.gov/search/results?q=hemisphere+enhanced&k1=target&v1=Mars'\n",
    "browser.visit(MarsHemispheres_url)\n",
    "MarsHemispheres_html = browser.html\n",
    "MarsHemispheres_soup = bs(MarsHemispheres_html, 'html.parser')\n",
    "\n",
    "results = MarsHemispheres_soup.find_all(class_=\"item\")\n",
    "#print(results)\n",
    "hemisphere_image_urls = []\n",
    "HemisphereURL = \"https://astropedia.astrogeology.usgs.gov/download/Mars/Viking/\"\n",
    "for result in results:\n",
    "    #image_url= 'https://astrogeology.usgs.gov'+result.a['href']+'.tif/full.jpg'\n",
    "    title = result.a.img['alt']\n",
    "    title_Splt = title.split()\n",
    "    \n",
    "    if(len(title_Splt) ==4):\n",
    "        title1 = title_Splt[0].lower() + \"_\" + title_Splt[2].lower()\n",
    "        title = title_Splt[0] + \" \" + title_Splt[1]\n",
    "    else:\n",
    "        title1 = title_Splt[0].lower() + \"_\"  +title_Splt[1].lower() + \"_\" + title_Splt[3].lower()\n",
    "        title = title_Splt[0] + \" \" + title_Splt[1] + \" \" + title_Splt[2]   \n",
    "    \n",
    "    image_url= HemisphereURL+ title1 +'.tif/full.jpg'\n",
    "    hemisphere_image_urls.append({'title' : title ,'image_url' : image_url})\n",
    "print(hemisphere_image_urls)\n",
    "    #.tif/full.jpg\n",
    "#Image Location : Features Image\n",
    "#MarsHemispheres_loc = results[0].attrs['href']\n",
    "#MarsHemispheres_loc = 'https://www.jpl.nasa.gov' + image_loc\n",
    "\n",
    "#print(MarsHemispheres_loc)\n",
    "#https://astropedia.astrogeology.usgs.gov/download/Mars/Viking/cerberus_enhanced.tif/full.jpg\n",
    "#https://astropedia.astrogeology.usgs.gov/download/Mars/Viking/valles_marineris_enhanced.tif/full.jpg"
   ]
  },
  {
   "cell_type": "code",
   "execution_count": null,
   "metadata": {
    "collapsed": true
   },
   "outputs": [],
   "source": []
  }
 ],
 "metadata": {
  "kernelspec": {
   "display_name": "Python [conda env:PythonData_3]",
   "language": "python",
   "name": "conda-env-PythonData_3-py"
  },
  "language_info": {
   "codemirror_mode": {
    "name": "ipython",
    "version": 3
   },
   "file_extension": ".py",
   "mimetype": "text/x-python",
   "name": "python",
   "nbconvert_exporter": "python",
   "pygments_lexer": "ipython3",
   "version": "3.6.3"
  }
 },
 "nbformat": 4,
 "nbformat_minor": 2
}
